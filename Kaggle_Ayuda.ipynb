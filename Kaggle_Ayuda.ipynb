{
 "cells": [
  {
   "cell_type": "markdown",
   "metadata": {},
   "source": [
    "#### Aquí encontrarás todo lo que necesitas saber: https://www.kaggle.com/competitions/desafio-de-prediccion-de-precios-de-portatiles"
   ]
  },
  {
   "cell_type": "markdown",
   "metadata": {},
   "source": [
    "## Librerias"
   ]
  },
  {
   "cell_type": "code",
   "execution_count": 1,
   "metadata": {},
   "outputs": [],
   "source": [
    "import warnings\n",
    "\n",
    "warnings.simplefilter(action='ignore', category=FutureWarning)\n",
    "import pandas as pd\n",
    "import numpy as np\n",
    "import matplotlib\n",
    "from pylab import *\n",
    "import seaborn as sns\n",
    "from sklearn import linear_model\n",
    "from sklearn import metrics\n",
    "from sklearn.model_selection import train_test_split\n",
    "from sklearn.linear_model import LinearRegression\n",
    "from sklearn.linear_model import Ridge\n",
    "from sklearn.ensemble import RandomForestRegressor, GradientBoostingRegressor\n",
    "import xgboost as xgb\n",
    "import lightgbm as lgb\n",
    "from catboost import CatBoostRegressor\n",
    "import matplotlib.pyplot as plt\n",
    "from sklearn.model_selection import GridSearchCV\n",
    "from sklearn.metrics import mean_squared_error\n",
    "from sklearn.metrics import mean_absolute_error\n",
    "from bootcampviztools import *\n",
    "import urllib.request\n",
    "from PIL import Image"
   ]
  },
  {
   "cell_type": "markdown",
   "metadata": {},
   "source": [
    "## Data"
   ]
  },
  {
   "cell_type": "code",
   "execution_count": 2,
   "metadata": {},
   "outputs": [],
   "source": [
    "### Para que funcione necesitas bajarte los archivos de datos de Kaggle \n",
    "df = pd.read_csv('train.csv', index_col=0)"
   ]
  },
  {
   "cell_type": "markdown",
   "metadata": {},
   "source": [
    "## Data exploration"
   ]
  },
  {
   "cell_type": "code",
   "execution_count": 3,
   "metadata": {},
   "outputs": [
    {
     "name": "stdout",
     "output_type": "stream",
     "text": [
      "<class 'pandas.core.frame.DataFrame'>\n",
      "Index: 912 entries, 268 to 1179\n",
      "Data columns (total 13 columns):\n",
      " #   Column            Non-Null Count  Dtype  \n",
      "---  ------            --------------  -----  \n",
      " 0   laptop_ID         912 non-null    int64  \n",
      " 1   Company           912 non-null    object \n",
      " 2   Product           912 non-null    object \n",
      " 3   TypeName          912 non-null    object \n",
      " 4   Inches            912 non-null    float64\n",
      " 5   ScreenResolution  912 non-null    object \n",
      " 6   Cpu               912 non-null    object \n",
      " 7   Ram               912 non-null    object \n",
      " 8   Memory            912 non-null    object \n",
      " 9   Gpu               912 non-null    object \n",
      " 10  OpSys             912 non-null    object \n",
      " 11  Weight            912 non-null    object \n",
      " 12  Price_euros       912 non-null    float64\n",
      "dtypes: float64(2), int64(1), object(10)\n",
      "memory usage: 99.8+ KB\n"
     ]
    }
   ],
   "source": [
    "df.info()"
   ]
  },
  {
   "cell_type": "code",
   "execution_count": 4,
   "metadata": {},
   "outputs": [
    {
     "name": "stdout",
     "output_type": "stream",
     "text": [
      "Columna: laptop_ID\n",
      "laptop_ID\n",
      "1002    1\n",
      "945     1\n",
      "374     1\n",
      "158     1\n",
      "960     1\n",
      "       ..\n",
      "691     1\n",
      "632     1\n",
      "1246    1\n",
      "1240    1\n",
      "1313    1\n",
      "Name: count, Length: 912, dtype: int64\n",
      "\n",
      "\n",
      "Columna: Company\n",
      "Company\n",
      "Lenovo       208\n",
      "Dell         207\n",
      "HP           189\n",
      "Asus         108\n",
      "Acer          75\n",
      "Toshiba       37\n",
      "MSI           34\n",
      "Apple         17\n",
      "Mediacom       7\n",
      "Razer          6\n",
      "Samsung        6\n",
      "Fujitsu        3\n",
      "Microsoft      3\n",
      "Vero           3\n",
      "Xiaomi         3\n",
      "Google         2\n",
      "Chuwi          2\n",
      "LG             1\n",
      "Huawei         1\n",
      "Name: count, dtype: int64\n",
      "\n",
      "\n",
      "Columna: Product\n",
      "Product\n",
      "Inspiron 3567                                21\n",
      "XPS 13                                       20\n",
      "250 G6                                       19\n",
      "Vostro 3568                                  16\n",
      "Inspiron 5570                                11\n",
      "                                             ..\n",
      "Elitebook Folio                               1\n",
      "Q304UA-BHI5T11 (i5-7200U/6GB/1TB/FHD/W10)     1\n",
      "ThinkPad T470p                                1\n",
      "V310-15IKB (i5-7200U/4GB/1TB/No               1\n",
      "Portege Z30-C-16H                             1\n",
      "Name: count, Length: 475, dtype: int64\n",
      "\n",
      "\n",
      "Columna: TypeName\n",
      "TypeName\n",
      "Notebook              522\n",
      "Gaming                138\n",
      "Ultrabook             135\n",
      "2 in 1 Convertible     85\n",
      "Workstation            18\n",
      "Netbook                14\n",
      "Name: count, dtype: int64\n",
      "\n",
      "\n",
      "Columna: Inches\n",
      "Inches\n",
      "15.6    474\n",
      "14.0    143\n",
      "13.3    111\n",
      "17.3    108\n",
      "12.5     28\n",
      "11.6     21\n",
      "12.0      6\n",
      "10.1      4\n",
      "13.9      4\n",
      "15.4      3\n",
      "15.0      3\n",
      "13.5      3\n",
      "12.3      2\n",
      "13.0      1\n",
      "18.4      1\n",
      "Name: count, dtype: int64\n",
      "\n",
      "\n",
      "Columna: ScreenResolution\n",
      "ScreenResolution\n",
      "Full HD 1920x1080                                346\n",
      "1366x768                                         208\n",
      "IPS Panel Full HD 1920x1080                      163\n",
      "IPS Panel Full HD / Touchscreen 1920x1080         37\n",
      "Full HD / Touchscreen 1920x1080                   32\n",
      "Touchscreen 1366x768                              15\n",
      "1600x900                                          11\n",
      "IPS Panel 4K Ultra HD 3840x2160                   10\n",
      "4K Ultra HD / Touchscreen 3840x2160                8\n",
      "Quad HD+ / Touchscreen 3200x1800                   8\n",
      "IPS Panel 4K Ultra HD / Touchscreen 3840x2160      8\n",
      "IPS Panel Retina Display 2304x1440                 6\n",
      "IPS Panel Retina Display 2560x1600                 5\n",
      "IPS Panel 1366x768                                 5\n",
      "4K Ultra HD 3840x2160                              5\n",
      "IPS Panel Touchscreen 1920x1200                    4\n",
      "Touchscreen 2560x1440                              4\n",
      "IPS Panel Quad HD+ / Touchscreen 3200x1800         4\n",
      "IPS Panel Touchscreen 2560x1440                    4\n",
      "1920x1080                                          3\n",
      "IPS Panel 2560x1440                                3\n",
      "IPS Panel Retina Display 2880x1800                 3\n",
      "Touchscreen 2256x1504                              3\n",
      "Quad HD+ 3200x1800                                 2\n",
      "Touchscreen 2400x1600                              2\n",
      "1440x900                                           2\n",
      "IPS Panel Touchscreen / 4K Ultra HD 3840x2160      2\n",
      "2560x1440                                          2\n",
      "IPS Panel Full HD 1920x1200                        1\n",
      "Touchscreen / 4K Ultra HD 3840x2160                1\n",
      "IPS Panel Quad HD+ 3200x1800                       1\n",
      "IPS Panel Quad HD+ 2560x1440                       1\n",
      "Touchscreen / Full HD 1920x1080                    1\n",
      "IPS Panel Full HD 2160x1440                        1\n",
      "IPS Panel Touchscreen 1366x768                     1\n",
      "Name: count, dtype: int64\n",
      "\n",
      "\n",
      "Columna: Cpu\n",
      "Cpu\n",
      "Intel Core i5 7200U 2.5GHz     142\n",
      "Intel Core i7 7700HQ 2.8GHz    102\n",
      "Intel Core i7 7500U 2.7GHz      88\n",
      "Intel Core i5 8250U 1.6GHz      54\n",
      "Intel Core i5 6200U 2.3GHz      51\n",
      "                              ... \n",
      "Intel Core i7 7660U 2.5GHz       1\n",
      "AMD E-Series E2-9000 2.2GHz      1\n",
      "Intel Core i3 6006U 2.2GHz       1\n",
      "Intel Core i7 2.8GHz             1\n",
      "AMD E-Series 9000 2.2GHz         1\n",
      "Name: count, Length: 104, dtype: int64\n",
      "\n",
      "\n",
      "Columna: Ram\n",
      "Ram\n",
      "8GB     434\n",
      "4GB     274\n",
      "16GB    125\n",
      "6GB      32\n",
      "2GB      16\n",
      "12GB     15\n",
      "32GB     14\n",
      "24GB      2\n",
      "Name: count, dtype: int64\n",
      "\n",
      "\n",
      "Columna: Memory\n",
      "Memory\n",
      "256GB SSD                        293\n",
      "1TB HDD                          150\n",
      "500GB HDD                        100\n",
      "512GB SSD                         75\n",
      "128GB SSD +  1TB HDD              61\n",
      "128GB SSD                         56\n",
      "256GB SSD +  1TB HDD              52\n",
      "32GB Flash Storage                27\n",
      "64GB Flash Storage                11\n",
      "2TB HDD                           11\n",
      "512GB SSD +  1TB HDD              10\n",
      "1TB SSD                            9\n",
      "1.0TB Hybrid                       7\n",
      "256GB Flash Storage                7\n",
      "32GB SSD                           5\n",
      "180GB SSD                          5\n",
      "256GB SSD +  2TB HDD               4\n",
      "16GB Flash Storage                 4\n",
      "16GB SSD                           3\n",
      "256GB SSD +  500GB HDD             2\n",
      "1TB SSD +  1TB HDD                 2\n",
      "128GB Flash Storage                2\n",
      "512GB SSD +  2TB HDD               2\n",
      "512GB Flash Storage                2\n",
      "1.0TB HDD                          1\n",
      "32GB HDD                           1\n",
      "128GB SSD +  2TB HDD               1\n",
      "512GB SSD +  512GB SSD             1\n",
      "1TB HDD +  1TB HDD                 1\n",
      "256GB SSD +  256GB SSD             1\n",
      "64GB Flash Storage +  1TB HDD      1\n",
      "8GB SSD                            1\n",
      "240GB SSD                          1\n",
      "256GB SSD +  1.0TB Hybrid          1\n",
      "64GB SSD                           1\n",
      "512GB SSD +  1.0TB Hybrid          1\n",
      "Name: count, dtype: int64\n",
      "\n",
      "\n",
      "Columna: Gpu\n",
      "Gpu\n",
      "Intel HD Graphics 620      199\n",
      "Intel HD Graphics 520      138\n",
      "Intel UHD Graphics 620      45\n",
      "Nvidia GeForce GTX 1050     43\n",
      "Nvidia GeForce GTX 1060     31\n",
      "                          ... \n",
      "Nvidia GeForce 920MX         1\n",
      "Intel HD Graphics 620        1\n",
      "AMD Radeon R7 M365X          1\n",
      "Nvidia Quadro M2200M         1\n",
      "Nvidia Quadro M520M          1\n",
      "Name: count, Length: 91, dtype: int64\n",
      "\n",
      "\n",
      "Columna: OpSys\n",
      "OpSys\n",
      "Windows 10      746\n",
      "Linux            47\n",
      "No OS            44\n",
      "Windows 7        32\n",
      "Chrome OS        20\n",
      "macOS            11\n",
      "Mac OS X          6\n",
      "Windows 10 S      4\n",
      "Android           2\n",
      "Name: count, dtype: int64\n",
      "\n",
      "\n",
      "Columna: Weight\n",
      "Weight\n",
      "2.2kg     86\n",
      "2.1kg     40\n",
      "2.3kg     35\n",
      "2.4kg     31\n",
      "2kg       30\n",
      "          ..\n",
      "4.0kg      1\n",
      "0.98kg     1\n",
      "3.6kg      1\n",
      "2.99kg     1\n",
      "1.79kg     1\n",
      "Name: count, Length: 158, dtype: int64\n",
      "\n",
      "\n",
      "Columna: Price_euros\n",
      "Price_euros\n",
      "1099.00    12\n",
      "1499.00    11\n",
      "1799.00     9\n",
      "899.00      9\n",
      "369.00      8\n",
      "           ..\n",
      "2250.68     1\n",
      "414.90      1\n",
      "857.07      1\n",
      "470.34      1\n",
      "1775.00     1\n",
      "Name: count, Length: 614, dtype: int64\n",
      "\n",
      "\n"
     ]
    },
    {
     "data": {
      "text/plain": [
       "Cpu\n",
       "Intel Core i5 7200U 2.5GHz               142\n",
       "Intel Core i7 7700HQ 2.8GHz              102\n",
       "Intel Core i7 7500U 2.7GHz                88\n",
       "Intel Core i5 8250U 1.6GHz                54\n",
       "Intel Core i5 6200U 2.3GHz                51\n",
       "Intel Core i3 6006U 2GHz                  47\n",
       "Intel Core i7 8550U 1.8GHz                44\n",
       "Intel Core i7 6500U 2.5GHz                34\n",
       "Intel Core i3 7100U 2.4GHz                29\n",
       "Intel Core i7 6700HQ 2.6GHz               28\n",
       "Intel Celeron Dual Core N3350 1.1GHz      22\n",
       "Intel Celeron Dual Core N3060 1.6GHz      20\n",
       "Intel Core i5 7300HQ 2.5GHz               19\n",
       "Intel Pentium Quad Core N4200 1.1GHz      12\n",
       "Intel Core i7 6600U 2.6GHz                12\n",
       "Intel Pentium Quad Core N3710 1.6GHz      10\n",
       "Intel Core i3 6006U 2.0GHz                10\n",
       "Intel Core i7 7600U 2.8GHz                 9\n",
       "Intel Core i5 6300U 2.4GHz                 9\n",
       "Intel Celeron Dual Core N3050 1.6GHz       8\n",
       "Intel Core i5 7300U 2.6GHz                 7\n",
       "AMD A9-Series 9420 3GHz                    7\n",
       "Intel Core i3 6100U 2.3GHz                 7\n",
       "Intel Core i7 7820HK 2.9GHz                6\n",
       "Intel Core i5 6300HQ 2.3GHz                5\n",
       "Intel Core i7 7Y75 1.3GHz                  5\n",
       "Intel Atom x5-Z8350 1.44GHz                5\n",
       "Intel Core i7 6820HK 2.7GHz                5\n",
       "Intel Core i7 6820HQ 2.7GHz                5\n",
       "Intel Core i3 7130U 2.7GHz                 4\n",
       "AMD A6-Series 9220 2.5GHz                  4\n",
       "AMD A12-Series 9720P 3.6GHz                4\n",
       "Intel Celeron Dual Core 3205U 1.5GHz       4\n",
       "Intel Atom x5-Z8550 1.44GHz                4\n",
       "Intel Celeron Quad Core N3450 1.1GHz       3\n",
       "Intel Core M 6Y75 1.2GHz                   3\n",
       "AMD E-Series 7110 1.8GHz                   2\n",
       "Intel Core i7 7820HQ 2.9GHz                2\n",
       "Intel Core i7 7560U 2.4GHz                 2\n",
       "Intel Core i5 2.3GHz                       2\n",
       "Intel Core i5 1.8GHz                       2\n",
       "Intel Core i5 3.1GHz                       2\n",
       "Intel Core i5 7Y54 1.2GHz                  2\n",
       "AMD A8-Series 7410 2.2GHz                  2\n",
       "Intel Celeron Dual Core 3855U 1.6GHz       2\n",
       "Intel Core i5 7440HQ 2.8GHz                2\n",
       "Intel Xeon E3-1505M V6 3GHz                2\n",
       "AMD Ryzen 1700 3GHz                        2\n",
       "Intel Core M 1.1GHz                        2\n",
       "AMD A10-Series A10-9620P 2.5GHz            2\n",
       "Intel Core M 1.2GHz                        2\n",
       "AMD A9-Series 9410 2.9GHz                  2\n",
       "Intel Core M M7-6Y75 1.2GHz                1\n",
       "Intel Core i5 7200U 2.50GHz                1\n",
       "Intel Atom X5-Z8350 1.44GHz                1\n",
       "Intel Core M m3 1.2GHz                     1\n",
       "Intel Pentium Dual Core N4200 1.1GHz       1\n",
       "Intel Core i3 6100U 2.1GHz                 1\n",
       "AMD E-Series 9000e 1.5GHz                  1\n",
       "Intel Core i7 2.7GHz                       1\n",
       "Intel Core i7 6500U 2.50GHz                1\n",
       "AMD FX 9830P 3GHz                          1\n",
       "Intel Core M m3-7Y30 2.2GHz                1\n",
       "Intel Core i5 2.9GHz                       1\n",
       "Intel Celeron Dual Core N3060 1.60GHz      1\n",
       "Intel Xeon E3-1535M v5 2.9GHz              1\n",
       "Intel Core i5 1.6GHz                       1\n",
       "Intel Core i7 6560U 2.2GHz                 1\n",
       "Intel Atom x5-Z8300 1.44GHz                1\n",
       "Intel Core i7 7500U 2.5GHz                 1\n",
       "Intel Atom Z8350 1.92GHz                   1\n",
       "AMD A12-Series 9700P 2.5GHz                1\n",
       "Intel Pentium Quad Core N3700 1.6GHz       1\n",
       "AMD A6-Series A6-9220 2.5GHz               1\n",
       "AMD A9-Series 9420 2.9GHz                  1\n",
       "AMD A6-Series 9220 2.9GHz                  1\n",
       "Intel Core i7 6920HQ 2.9GHz                1\n",
       "Intel Core i5 7Y57 1.2GHz                  1\n",
       "Intel Celeron Quad Core N3160 1.6GHz       1\n",
       "Intel Pentium Dual Core 4405Y 1.5GHz       1\n",
       "AMD FX 8800P 2.1GHz                        1\n",
       "Intel Core M 7Y30 1.0GHz                   1\n",
       "Intel Core i7 2.2GHz                       1\n",
       "Intel Core i5 7200U 2.70GHz                1\n",
       "Intel Core i5 7200U 2.7GHz                 1\n",
       "Intel Core i5 7500U 2.7GHz                 1\n",
       "AMD Ryzen 1600 3.2GHz                      1\n",
       "Intel Celeron Dual Core N3350 2GHz         1\n",
       "AMD E-Series E2-6110 1.5GHz                1\n",
       "AMD E-Series 6110 1.5GHz                   1\n",
       "AMD A10-Series 9620P 2.5GHz                1\n",
       "Intel Core i5 1.3GHz                       1\n",
       "Intel Xeon E3-1535M v6 3.1GHz              1\n",
       "Intel Core M M3-6Y30 0.9GHz                1\n",
       "Intel Pentium Dual Core 4405U 2.1GHz       1\n",
       "AMD A9-Series A9-9420 3GHz                 1\n",
       "Intel Core M 6Y30 0.9GHz                   1\n",
       "AMD A12-Series 9720P 2.7GHz                1\n",
       "Intel Core i7 8650U 1.9GHz                 1\n",
       "Intel Core i7 7660U 2.5GHz                 1\n",
       "AMD E-Series E2-9000 2.2GHz                1\n",
       "Intel Core i3 6006U 2.2GHz                 1\n",
       "Intel Core i7 2.8GHz                       1\n",
       "AMD E-Series 9000 2.2GHz                   1\n",
       "Name: count, dtype: int64"
      ]
     },
     "execution_count": 4,
     "metadata": {},
     "output_type": "execute_result"
    }
   ],
   "source": [
    "for column in df.columns:\n",
    "    print(f\"Columna: {column}\")\n",
    "    print(df[column].value_counts())\n",
    "    print(\"\\n\")\n",
    "    \n",
    "pd.set_option('display.max_rows', None)\n",
    "df['Cpu'].value_counts()"
   ]
  },
  {
   "cell_type": "markdown",
   "metadata": {},
   "source": [
    "## Data processing"
   ]
  },
  {
   "cell_type": "code",
   "execution_count": 5,
   "metadata": {},
   "outputs": [
    {
     "data": {
      "text/plain": [
       "\" df['GPU_Brand'] = df['Gpu'].str.split().str[0]\\ndf['CPU_Brand'] = df['Cpu'].str.split().str[0] \""
      ]
     },
     "execution_count": 5,
     "metadata": {},
     "output_type": "execute_result"
    }
   ],
   "source": [
    "\"\"\" df['GPU_Brand'] = df['Gpu'].str.split().str[0]\n",
    "df['CPU_Brand'] = df['Cpu'].str.split().str[0] \"\"\""
   ]
  },
  {
   "cell_type": "code",
   "execution_count": 6,
   "metadata": {},
   "outputs": [
    {
     "data": {
      "text/plain": [
       "' def transform_memory_column(df):\\n    # Crear columnas separadas para cada tipo de almacenamiento\\n    storage_types = [\\'SSD\\', \\'HDD\\', \\'Flash Storage\\', \\'Hybrid\\']\\n    for storage_type in storage_types:\\n        df[storage_type] = df[\\'Memory\\'].apply(lambda x: 1 if storage_type in x else 0)\\n\\n    # Dividir la columna \"Memory\" en capacidades y tipos de almacenamiento\\n    memory_parts = df[\\'Memory\\'].str.split(\\'+\\').apply(lambda x: [part.strip() for part in x])\\n    \\n    capacities = []\\n    storage_categories = []\\n    for memory_part in memory_parts:\\n        for part in memory_part:\\n            if any(storage_type in part for storage_type in storage_types):\\n                storage_categories.append(part)\\n            else:\\n                capacities.append(part)\\n\\n    # Asignar un valor numérico a cada tipo de almacenamiento\\n    storage_mapping = {storage_type: i+1 for i, storage_type in enumerate(storage_types)}\\n\\n    # Crear columnas para las capacidades de almacenamiento\\n    if capacities:\\n        df[\\'Capacity\\'] = capacities\\n        df[\\'Capacity\\'] = df[\\'Capacity\\'].str.extract(r\\'(\\\\d+)\\').astype(int)\\n        df[\\'Capacity_GB\\'] = df[\\'Capacity\\']\\n    else:\\n        df[\\'Capacity_GB\\'] = 0\\n\\n    # Aplicar get_dummies a la columna de tipos de almacenamiento\\n    storage_dummies = pd.get_dummies(storage_categories)\\n\\n    # Concatenar las columnas de tipos de almacenamiento dummy al DataFrame original\\n    df = pd.concat([df, storage_dummies], axis=1)\\n\\n    # Eliminar la columna \\'Memory\\' ya que no es necesaria\\n    df.drop(columns=[\\'Memory\\'], inplace=True)\\n\\n    return df '"
      ]
     },
     "execution_count": 6,
     "metadata": {},
     "output_type": "execute_result"
    }
   ],
   "source": [
    "\"\"\" def transform_memory_column(df):\n",
    "    # Crear columnas separadas para cada tipo de almacenamiento\n",
    "    storage_types = ['SSD', 'HDD', 'Flash Storage', 'Hybrid']\n",
    "    for storage_type in storage_types:\n",
    "        df[storage_type] = df['Memory'].apply(lambda x: 1 if storage_type in x else 0)\n",
    "\n",
    "    # Dividir la columna \"Memory\" en capacidades y tipos de almacenamiento\n",
    "    memory_parts = df['Memory'].str.split('+').apply(lambda x: [part.strip() for part in x])\n",
    "    \n",
    "    capacities = []\n",
    "    storage_categories = []\n",
    "    for memory_part in memory_parts:\n",
    "        for part in memory_part:\n",
    "            if any(storage_type in part for storage_type in storage_types):\n",
    "                storage_categories.append(part)\n",
    "            else:\n",
    "                capacities.append(part)\n",
    "\n",
    "    # Asignar un valor numérico a cada tipo de almacenamiento\n",
    "    storage_mapping = {storage_type: i+1 for i, storage_type in enumerate(storage_types)}\n",
    "\n",
    "    # Crear columnas para las capacidades de almacenamiento\n",
    "    if capacities:\n",
    "        df['Capacity'] = capacities\n",
    "        df['Capacity'] = df['Capacity'].str.extract(r'(\\d+)').astype(int)\n",
    "        df['Capacity_GB'] = df['Capacity']\n",
    "    else:\n",
    "        df['Capacity_GB'] = 0\n",
    "\n",
    "    # Aplicar get_dummies a la columna de tipos de almacenamiento\n",
    "    storage_dummies = pd.get_dummies(storage_categories)\n",
    "\n",
    "    # Concatenar las columnas de tipos de almacenamiento dummy al DataFrame original\n",
    "    df = pd.concat([df, storage_dummies], axis=1)\n",
    "\n",
    "    # Eliminar la columna 'Memory' ya que no es necesaria\n",
    "    df.drop(columns=['Memory'], inplace=True)\n",
    "\n",
    "    return df \"\"\""
   ]
  },
  {
   "cell_type": "code",
   "execution_count": 7,
   "metadata": {},
   "outputs": [
    {
     "data": {
      "text/plain": [
       "' df = transform_memory_column(df) '"
      ]
     },
     "execution_count": 7,
     "metadata": {},
     "output_type": "execute_result"
    }
   ],
   "source": [
    "\"\"\" df = transform_memory_column(df) \"\"\""
   ]
  },
  {
   "cell_type": "code",
   "execution_count": 8,
   "metadata": {},
   "outputs": [],
   "source": [
    "df['Weight'] = df['Weight'].str.replace('kg', '').astype(float)\n",
    "df['Ram'] = df['Ram'].str.replace('GB', '').astype(float)"
   ]
  },
  {
   "cell_type": "code",
   "execution_count": 9,
   "metadata": {},
   "outputs": [],
   "source": [
    "def transform_memory(memory):\n",
    "    # Convertir todo a minúsculas para evitar problemas de capitalización\n",
    "    memory = memory.lower()\n",
    "    \n",
    "    # Inicializar las capacidades\n",
    "    ssd_capacity = 0\n",
    "    hdd_capacity = 0\n",
    "    flash_capacity = 0\n",
    "    hybrid_capacity = 0\n",
    "    \n",
    "    # Buscar las capacidades en la memoria\n",
    "    ssd_match = re.search(r'(\\d+)gb\\s+ssd', memory)\n",
    "    hdd_match = re.search(r'(\\d+)tb\\s+hdd', memory)\n",
    "    flash_match = re.search(r'(\\d+)gb\\s+flash\\s+storage', memory)\n",
    "    hybrid_match = re.search(r'(\\d+\\.\\d+)tb\\s+hybrid', memory)\n",
    "    \n",
    "    # Extraer las capacidades si están presentes\n",
    "    if ssd_match:\n",
    "        ssd_capacity = int(ssd_match.group(1))\n",
    "    if hdd_match:\n",
    "        hdd_capacity = int(hdd_match.group(1)) * 1000  # Convertir de TB a GB\n",
    "    if flash_match:\n",
    "        flash_capacity = int(flash_match.group(1))\n",
    "    if hybrid_match:\n",
    "        hybrid_capacity = int(float(hybrid_match.group(1)) * 1000)  # Convertir de TB a GB\n",
    "    \n",
    "    return ssd_capacity, hdd_capacity, flash_capacity, hybrid_capacity\n",
    "\n",
    "\n",
    "df['SSD_capacity'], df['HDD_capacity'], df['Flash_capacity'], df['Hybrid_capacity'] = zip(*df['Memory'].apply(transform_memory))"
   ]
  },
  {
   "cell_type": "code",
   "execution_count": 10,
   "metadata": {},
   "outputs": [],
   "source": [
    "def transform_gpu(gpu):\n",
    "    manufacter_codes = {'Intel': 1, 'Nvidia': 2, 'AMD': 3}\n",
    "    \n",
    "    # Identificar el fabricante\n",
    "    if 'AMD' in gpu:\n",
    "        manufacter = 'AMD'\n",
    "    elif 'Intel' in gpu:\n",
    "        manufacter = 'Intel'\n",
    "    elif 'Nvidia' in gpu:\n",
    "        manufacter = 'Nvidia'\n",
    "    else:\n",
    "        manufacter = 'Unknown'\n",
    "    \n",
    "    # Extraer las partes de la GPU\n",
    "    parts = gpu.split(' ')\n",
    "    series = ' '.join(parts[1:-1]) if len(parts) > 2 else 'Unknown'\n",
    "    numero_modelo = re.findall(r'\\d+', gpu)\n",
    "    numero_modelo = numero_modelo[0] if numero_modelo else '0'\n",
    "    \n",
    "    # Obtener el código del fabricante\n",
    "    codigo_gpu = manufacter_codes.get(manufacter, 0)\n",
    "    \n",
    "    return manufacter, series, numero_modelo, codigo_gpu\n",
    "\n",
    "df['Gpu_manufacter'], df['Gpu_series'], df['Gpu_numero'], df['Gpu_codigo'] = zip(*df['Gpu'].apply(transform_gpu))"
   ]
  },
  {
   "cell_type": "code",
   "execution_count": 11,
   "metadata": {},
   "outputs": [],
   "source": [
    "def transform_cpu(cpu):\n",
    "    # Convertir todos los nombres de CPU a minúsculas para evitar problemas de capitalización\n",
    "    cpu = cpu.lower()\n",
    "    \n",
    "    # Diccionario para asignar códigos a fabricantes\n",
    "    manufacter_codes = {'intel': 1, 'amd': 2}\n",
    "    \n",
    "    # Identificar el fabricante\n",
    "    manufacter = 'Unknown'\n",
    "    for key in manufacter_codes:\n",
    "        if key in cpu:\n",
    "            manufacter = key\n",
    "            break\n",
    "    \n",
    "    # Extraer serie y número de la CPU\n",
    "    serie_numero_match = re.search(r'([a-zA-Z]+\\s?\\d+)', cpu)\n",
    "    serie_numero = serie_numero_match.group(0) if serie_numero_match else 'Unknown'\n",
    "    \n",
    "    velocidad_reloj_match = re.search(r'\\d+\\.?\\d*ghz', cpu)\n",
    "    velocidad_reloj_str = velocidad_reloj_match.group(0) if velocidad_reloj_match else 'Unknown'\n",
    "    \n",
    "    # Formatear la velocidad del reloj a un decimal\n",
    "    velocidad_reloj_decimal = round(float(re.search(r'\\d+\\.?\\d*', velocidad_reloj_str).group(0)), 1)\n",
    "    \n",
    "    # Obtener el código del fabricante\n",
    "    codigo_fabricante = manufacter_codes.get(manufacter, 0)\n",
    "    \n",
    "    return manufacter, serie_numero, velocidad_reloj_decimal, codigo_fabricante\n",
    "\n",
    "df['Cpu_manufacturer'], df['Cpu_series'], df['Cpu_clock_speed'], df['Cpu_code'] = zip(*df['Cpu'].apply(transform_cpu))"
   ]
  },
  {
   "cell_type": "code",
   "execution_count": 12,
   "metadata": {},
   "outputs": [
    {
     "name": "stdout",
     "output_type": "stream",
     "text": [
      "ScreenResolution\n",
      "<class 'str'>    912\n",
      "Name: count, dtype: int64\n"
     ]
    }
   ],
   "source": [
    "resolution_categories = {\n",
    "    'HD': 1,\n",
    "    'Full HD': 2,\n",
    "    'Quad HD+': 3,\n",
    "    '4K Ultra HD': 4\n",
    "}\n",
    "\n",
    "def assign_resolution_value(resolution):\n",
    "    if isinstance(resolution, str):  # Verificar si la resolución es una cadena\n",
    "        for category, value in resolution_categories.items():\n",
    "            if category in resolution:\n",
    "                return value\n",
    "    return 0   # Si la resolución no coincide con ninguna categoría, asigna 0\n",
    "\n",
    "# Define una función para extraer la resolución horizontal y vertical\n",
    "def extract_resolution(resolution, axis):\n",
    "    if isinstance(resolution, float):\n",
    "        return 0  # Si es NaN, devuelve 0\n",
    "    parts = str(resolution).split('x')\n",
    "    if axis == 'horizontal':\n",
    "        for part in parts:\n",
    "            if part.strip().isdigit():\n",
    "                return int(part.strip())  # Extraer el número si es un dígito\n",
    "        return 0\n",
    "    elif axis == 'vertical':\n",
    "        return int(parts[-1])\n",
    "    else:\n",
    "        return 0\n",
    "\n",
    "def has_ips_panel(screen_description):\n",
    "    if isinstance(screen_description, float):\n",
    "        return 0\n",
    "    return 1 if 'IPS' in screen_description else 0\n",
    "    \n",
    "print(df['ScreenResolution'].apply(type).value_counts())\n",
    "df['ResolutionValue'] = df['ScreenResolution'].apply(assign_resolution_value)\n",
    "\n",
    "# Crea nuevas características para la resolución horizontal y vertical\n",
    "df['HorizontalResolution'] = df['ScreenResolution'].apply(lambda x: extract_resolution(x, 'horizontal'))\n",
    "df['VerticalResolution'] = df['ScreenResolution'].apply(lambda x: extract_resolution(x, 'vertical'))\n",
    "df['IPS_Panel'] = df['ScreenResolution'].apply(has_ips_panel)"
   ]
  },
  {
   "cell_type": "code",
   "execution_count": 13,
   "metadata": {},
   "outputs": [
    {
     "name": "stdout",
     "output_type": "stream",
     "text": [
      "<class 'pandas.core.frame.DataFrame'>\n",
      "Index: 912 entries, 268 to 1179\n",
      "Data columns (total 29 columns):\n",
      " #   Column                Non-Null Count  Dtype  \n",
      "---  ------                --------------  -----  \n",
      " 0   laptop_ID             912 non-null    int64  \n",
      " 1   Company               912 non-null    object \n",
      " 2   Product               912 non-null    object \n",
      " 3   TypeName              912 non-null    object \n",
      " 4   Inches                912 non-null    float64\n",
      " 5   ScreenResolution      912 non-null    object \n",
      " 6   Cpu                   912 non-null    object \n",
      " 7   Ram                   912 non-null    float64\n",
      " 8   Memory                912 non-null    object \n",
      " 9   Gpu                   912 non-null    object \n",
      " 10  OpSys                 912 non-null    object \n",
      " 11  Weight                912 non-null    float64\n",
      " 12  Price_euros           912 non-null    float64\n",
      " 13  SSD_capacity          912 non-null    int64  \n",
      " 14  HDD_capacity          912 non-null    int64  \n",
      " 15  Flash_capacity        912 non-null    int64  \n",
      " 16  Hybrid_capacity       912 non-null    int64  \n",
      " 17  Gpu_manufacter        912 non-null    object \n",
      " 18  Gpu_series            912 non-null    object \n",
      " 19  Gpu_numero            912 non-null    object \n",
      " 20  Gpu_codigo            912 non-null    int64  \n",
      " 21  Cpu_manufacturer      912 non-null    object \n",
      " 22  Cpu_series            912 non-null    object \n",
      " 23  Cpu_clock_speed       912 non-null    float64\n",
      " 24  Cpu_code              912 non-null    int64  \n",
      " 25  ResolutionValue       912 non-null    int64  \n",
      " 26  HorizontalResolution  912 non-null    int64  \n",
      " 27  VerticalResolution    912 non-null    int64  \n",
      " 28  IPS_Panel             912 non-null    int64  \n",
      "dtypes: float64(5), int64(11), object(13)\n",
      "memory usage: 213.8+ KB\n"
     ]
    }
   ],
   "source": [
    "df.info()"
   ]
  },
  {
   "cell_type": "code",
   "execution_count": 14,
   "metadata": {},
   "outputs": [],
   "source": [
    "columnas_a_eliminar = ['Cpu', 'Gpu', 'ScreenResolution', 'Memory', 'Product', 'laptop_ID']\n",
    "\n",
    "# Eliminar las columnas originales\n",
    "df.drop(columnas_a_eliminar, axis=1, inplace=True)"
   ]
  },
  {
   "cell_type": "code",
   "execution_count": 15,
   "metadata": {},
   "outputs": [
    {
     "name": "stdout",
     "output_type": "stream",
     "text": [
      "<class 'pandas.core.frame.DataFrame'>\n",
      "Index: 912 entries, 268 to 1179\n",
      "Data columns (total 23 columns):\n",
      " #   Column                Non-Null Count  Dtype  \n",
      "---  ------                --------------  -----  \n",
      " 0   Company               912 non-null    object \n",
      " 1   TypeName              912 non-null    object \n",
      " 2   Inches                912 non-null    float64\n",
      " 3   Ram                   912 non-null    float64\n",
      " 4   OpSys                 912 non-null    object \n",
      " 5   Weight                912 non-null    float64\n",
      " 6   Price_euros           912 non-null    float64\n",
      " 7   SSD_capacity          912 non-null    int64  \n",
      " 8   HDD_capacity          912 non-null    int64  \n",
      " 9   Flash_capacity        912 non-null    int64  \n",
      " 10  Hybrid_capacity       912 non-null    int64  \n",
      " 11  Gpu_manufacter        912 non-null    object \n",
      " 12  Gpu_series            912 non-null    object \n",
      " 13  Gpu_numero            912 non-null    object \n",
      " 14  Gpu_codigo            912 non-null    int64  \n",
      " 15  Cpu_manufacturer      912 non-null    object \n",
      " 16  Cpu_series            912 non-null    object \n",
      " 17  Cpu_clock_speed       912 non-null    float64\n",
      " 18  Cpu_code              912 non-null    int64  \n",
      " 19  ResolutionValue       912 non-null    int64  \n",
      " 20  HorizontalResolution  912 non-null    int64  \n",
      " 21  VerticalResolution    912 non-null    int64  \n",
      " 22  IPS_Panel             912 non-null    int64  \n",
      "dtypes: float64(5), int64(10), object(8)\n",
      "memory usage: 171.0+ KB\n"
     ]
    }
   ],
   "source": [
    "df.info()"
   ]
  },
  {
   "cell_type": "code",
   "execution_count": 16,
   "metadata": {},
   "outputs": [],
   "source": [
    "object_columns = df.select_dtypes(include=['object']).columns\n",
    "\n",
    "# Aplicar get dummies a las columnas object\n",
    "df = pd.get_dummies(df, columns=object_columns)"
   ]
  },
  {
   "cell_type": "code",
   "execution_count": 17,
   "metadata": {},
   "outputs": [
    {
     "name": "stdout",
     "output_type": "stream",
     "text": [
      "<class 'pandas.core.frame.DataFrame'>\n",
      "Index: 912 entries, 268 to 1179\n",
      "Columns: 167 entries, Inches to Cpu_series_z8350\n",
      "dtypes: bool(152), float64(5), int64(10)\n",
      "memory usage: 249.4 KB\n"
     ]
    }
   ],
   "source": [
    "df.info()"
   ]
  },
  {
   "cell_type": "code",
   "execution_count": 18,
   "metadata": {},
   "outputs": [
    {
     "data": {
      "text/plain": [
       "Cpu_clock_speed\n",
       "2.5    208\n",
       "2.8    114\n",
       "2.7    107\n",
       "1.6     98\n",
       "2.3     65\n",
       "2.0     58\n",
       "1.8     48\n",
       "2.6     47\n",
       "1.1     40\n",
       "2.4     40\n",
       "2.9     15\n",
       "3.0     13\n",
       "1.4     11\n",
       "1.2     10\n",
       "1.5      8\n",
       "2.2      8\n",
       "1.3      6\n",
       "3.6      4\n",
       "3.1      3\n",
       "2.1      3\n",
       "0.9      2\n",
       "1.9      2\n",
       "1.0      1\n",
       "3.2      1\n",
       "Name: count, dtype: int64"
      ]
     },
     "execution_count": 18,
     "metadata": {},
     "output_type": "execute_result"
    }
   ],
   "source": [
    "df['Cpu_clock_speed'].value_counts()"
   ]
  },
  {
   "cell_type": "code",
   "execution_count": 19,
   "metadata": {},
   "outputs": [
    {
     "data": {
      "text/plain": [
       "HorizontalResolution\n",
       "1080    579\n",
       "1366    208\n",
       "2160     34\n",
       "768      21\n",
       "1440     21\n",
       "1800     18\n",
       "1600     18\n",
       "1200      5\n",
       "1504      3\n",
       "1920      3\n",
       "2560      2\n",
       "Name: count, dtype: int64"
      ]
     },
     "execution_count": 19,
     "metadata": {},
     "output_type": "execute_result"
    }
   ],
   "source": [
    "df['HorizontalResolution'].value_counts()"
   ]
  },
  {
   "cell_type": "code",
   "execution_count": 20,
   "metadata": {},
   "outputs": [
    {
     "data": {
      "text/plain": [
       "VerticalResolution\n",
       "1080    582\n",
       "768     229\n",
       "2160     34\n",
       "1440     21\n",
       "1800     18\n",
       "900      13\n",
       "1600      7\n",
       "1200      5\n",
       "1504      3\n",
       "Name: count, dtype: int64"
      ]
     },
     "execution_count": 20,
     "metadata": {},
     "output_type": "execute_result"
    }
   ],
   "source": [
    "df['VerticalResolution'].value_counts()"
   ]
  },
  {
   "cell_type": "code",
   "execution_count": 21,
   "metadata": {},
   "outputs": [
    {
     "data": {
      "text/plain": [
       "IPS_Panel\n",
       "0    653\n",
       "1    259\n",
       "Name: count, dtype: int64"
      ]
     },
     "execution_count": 21,
     "metadata": {},
     "output_type": "execute_result"
    }
   ],
   "source": [
    "df['IPS_Panel'].value_counts()"
   ]
  },
  {
   "cell_type": "markdown",
   "metadata": {},
   "source": [
    "-----------------------------------------------------------------------------------------------------------------"
   ]
  },
  {
   "cell_type": "markdown",
   "metadata": {},
   "source": [
    "## Pasos que si o si debéis realizar para poder participar en la competición:"
   ]
  },
  {
   "cell_type": "markdown",
   "metadata": {},
   "source": [
    "### 1. Definir X e y"
   ]
  },
  {
   "cell_type": "code",
   "execution_count": 22,
   "metadata": {},
   "outputs": [],
   "source": [
    "y = df['Price_euros']"
   ]
  },
  {
   "cell_type": "code",
   "execution_count": 23,
   "metadata": {},
   "outputs": [],
   "source": [
    "X = df.drop(columns=['Price_euros'])"
   ]
  },
  {
   "cell_type": "markdown",
   "metadata": {},
   "source": [
    "### 2. Dividir X_train, X_test, y_train, y_test"
   ]
  },
  {
   "cell_type": "code",
   "execution_count": 24,
   "metadata": {},
   "outputs": [],
   "source": [
    "X_train, X_test, y_train, y_test = train_test_split(X, y, test_size=0.2, random_state=42)"
   ]
  },
  {
   "cell_type": "markdown",
   "metadata": {},
   "source": [
    "### 3. Crear y entrenar el modelo\n"
   ]
  },
  {
   "cell_type": "markdown",
   "metadata": {},
   "source": [
    "### 4. Sacar métricas, valorar el modelo \n",
    "\n",
    "Recuerda que en la competición se va a evaluar con la métrica de MAE."
   ]
  },
  {
   "cell_type": "code",
   "execution_count": 25,
   "metadata": {},
   "outputs": [],
   "source": [
    "y_train\n",
    "X_train['Price_euros'] = y_train"
   ]
  },
  {
   "cell_type": "code",
   "execution_count": 26,
   "metadata": {},
   "outputs": [
    {
     "name": "stdout",
     "output_type": "stream",
     "text": [
      "Index(['Inches', 'Ram', 'Weight', 'SSD_capacity', 'HDD_capacity',\n",
      "       'Flash_capacity', 'Hybrid_capacity', 'Gpu_codigo', 'Cpu_clock_speed',\n",
      "       'Cpu_code', 'ResolutionValue', 'HorizontalResolution',\n",
      "       'VerticalResolution', 'IPS_Panel', 'Price_euros'],\n",
      "      dtype='object')\n",
      "                        Inches       Ram    Weight  SSD_capacity  \\\n",
      "Inches                1.000000  0.265210  0.826690     -0.092982   \n",
      "Ram                   0.265210  1.000000  0.447989      0.442727   \n",
      "Weight                0.826690  0.447989  1.000000     -0.038735   \n",
      "SSD_capacity         -0.092982  0.442727 -0.038735      1.000000   \n",
      "HDD_capacity          0.460228  0.215663  0.466640     -0.298337   \n",
      "Flash_capacity       -0.234956 -0.057966 -0.173968     -0.159384   \n",
      "Hybrid_capacity       0.073031  0.069570  0.133444     -0.058477   \n",
      "Gpu_codigo            0.489399  0.217442  0.453723     -0.017205   \n",
      "Cpu_clock_speed       0.284174  0.372348  0.324351      0.256505   \n",
      "Cpu_code              0.117223 -0.098363  0.058208     -0.075260   \n",
      "ResolutionValue       0.126969  0.355508  0.144575      0.430722   \n",
      "HorizontalResolution -0.060185  0.140088 -0.043066      0.008900   \n",
      "VerticalResolution   -0.060499  0.451769  0.015844      0.388498   \n",
      "IPS_Panel            -0.082234  0.204620  0.048787      0.220712   \n",
      "Price_euros           0.106196  0.754267  0.287637      0.513250   \n",
      "\n",
      "                      HDD_capacity  Flash_capacity  Hybrid_capacity  \\\n",
      "Inches                    0.460228       -0.234956         0.073031   \n",
      "Ram                       0.215663       -0.057966         0.069570   \n",
      "Weight                    0.466640       -0.173968         0.133444   \n",
      "SSD_capacity             -0.298337       -0.159384        -0.058477   \n",
      "HDD_capacity              1.000000       -0.096770        -0.076268   \n",
      "Flash_capacity           -0.096770        1.000000        -0.016812   \n",
      "Hybrid_capacity          -0.076268       -0.016812         1.000000   \n",
      "Gpu_codigo                0.377885       -0.115467         0.119464   \n",
      "Cpu_clock_speed           0.170589       -0.240529         0.078177   \n",
      "Cpu_code                  0.079981       -0.033770         0.091106   \n",
      "ResolutionValue           0.032953       -0.178804         0.073025   \n",
      "HorizontalResolution     -0.076194        0.081046        -0.059167   \n",
      "VerticalResolution       -0.058836        0.027668         0.003785   \n",
      "IPS_Panel                -0.001944        0.055624        -0.013062   \n",
      "Price_euros               0.011606       -0.043891         0.028335   \n",
      "\n",
      "                      Gpu_codigo  Cpu_clock_speed  Cpu_code  ResolutionValue  \\\n",
      "Inches                  0.489399         0.284174  0.117223         0.126969   \n",
      "Ram                     0.217442         0.372348 -0.098363         0.355508   \n",
      "Weight                  0.453723         0.324351  0.058208         0.144575   \n",
      "SSD_capacity           -0.017205         0.256505 -0.075260         0.430722   \n",
      "HDD_capacity            0.377885         0.170589  0.079981         0.032953   \n",
      "Flash_capacity         -0.115467        -0.240529 -0.033770        -0.178804   \n",
      "Hybrid_capacity         0.119464         0.078177  0.091106         0.073025   \n",
      "Gpu_codigo              1.000000         0.306620  0.449330         0.243446   \n",
      "Cpu_clock_speed         0.306620         1.000000  0.196086         0.316632   \n",
      "Cpu_code                0.449330         0.196086  1.000000        -0.049521   \n",
      "ResolutionValue         0.243446         0.316632 -0.049521         1.000000   \n",
      "HorizontalResolution   -0.106667        -0.065395 -0.024404        -0.348967   \n",
      "VerticalResolution      0.071160         0.178969 -0.086991         0.475337   \n",
      "IPS_Panel               0.009224         0.058703 -0.080562         0.267310   \n",
      "Price_euros             0.089585         0.432420 -0.164188         0.391916   \n",
      "\n",
      "                      HorizontalResolution  VerticalResolution  IPS_Panel  \\\n",
      "Inches                           -0.060185           -0.060499  -0.082234   \n",
      "Ram                               0.140088            0.451769   0.204620   \n",
      "Weight                           -0.043066            0.015844   0.048787   \n",
      "SSD_capacity                      0.008900            0.388498   0.220712   \n",
      "HDD_capacity                     -0.076194           -0.058836  -0.001944   \n",
      "Flash_capacity                    0.081046            0.027668   0.055624   \n",
      "Hybrid_capacity                  -0.059167            0.003785  -0.013062   \n",
      "Gpu_codigo                       -0.106667            0.071160   0.009224   \n",
      "Cpu_clock_speed                  -0.065395            0.178969   0.058703   \n",
      "Cpu_code                         -0.024404           -0.086991  -0.080562   \n",
      "ResolutionValue                  -0.348967            0.475337   0.267310   \n",
      "HorizontalResolution              1.000000            0.561752  -0.040689   \n",
      "VerticalResolution                0.561752            1.000000   0.282219   \n",
      "IPS_Panel                        -0.040689            0.282219   1.000000   \n",
      "Price_euros                       0.202554            0.564586   0.256700   \n",
      "\n",
      "                      Price_euros  \n",
      "Inches                   0.106196  \n",
      "Ram                      0.754267  \n",
      "Weight                   0.287637  \n",
      "SSD_capacity             0.513250  \n",
      "HDD_capacity             0.011606  \n",
      "Flash_capacity          -0.043891  \n",
      "Hybrid_capacity          0.028335  \n",
      "Gpu_codigo               0.089585  \n",
      "Cpu_clock_speed          0.432420  \n",
      "Cpu_code                -0.164188  \n",
      "ResolutionValue          0.391916  \n",
      "HorizontalResolution     0.202554  \n",
      "VerticalResolution       0.564586  \n",
      "IPS_Panel                0.256700  \n",
      "Price_euros              1.000000  \n",
      "Price_euros             1.000000\n",
      "Ram                     0.754267\n",
      "VerticalResolution      0.564586\n",
      "SSD_capacity            0.513250\n",
      "Cpu_clock_speed         0.432420\n",
      "ResolutionValue         0.391916\n",
      "Weight                  0.287637\n",
      "IPS_Panel               0.256700\n",
      "HorizontalResolution    0.202554\n",
      "Inches                  0.106196\n",
      "Gpu_codigo              0.089585\n",
      "Hybrid_capacity         0.028335\n",
      "HDD_capacity            0.011606\n",
      "Flash_capacity         -0.043891\n",
      "Cpu_code               -0.164188\n",
      "Name: Price_euros, dtype: float64\n"
     ]
    },
    {
     "data": {
      "image/png": "[encoded data removed]",
      "text/plain": [
       "<Figure size 2000x4000 with 2 Axes>"
      ]
     },
     "metadata": {},
     "output_type": "display_data"
    }
   ],
   "source": [
    "numerical_df = X_train.select_dtypes(include=['int64', 'int32', 'float64'])\n",
    "\n",
    "# Verificar las columnas seleccionadas\n",
    "print(numerical_df.columns)\n",
    "\n",
    "# Calcular la matriz de correlación\n",
    "correlation_matrix = numerical_df.corr()\n",
    "\n",
    "# Mostrar la matriz de correlación completa\n",
    "print(correlation_matrix)\n",
    "\n",
    "# Extraer las correlaciones con 'Price_euros'\n",
    "price_correlations = correlation_matrix['Price_euros'].sort_values(ascending=False)\n",
    "print(price_correlations)\n",
    "\n",
    "significant_correlations = price_correlations[price_correlations > 0].index.tolist()\n",
    "\n",
    "# Crear una visualización de la matriz de correlación enfocada en 'Price_euros'\n",
    "plt.figure(figsize=(20, 40))  # Ajusta el tamaño de la figura\n",
    "sns.heatmap(correlation_matrix[['Price_euros']].sort_values(by='Price_euros', ascending=False), annot=True, cmap='coolwarm', fmt='.2f', cbar_kws={'label': 'Correlación'})\n",
    "plt.title('Correlaciones con Price_euros')\n",
    "plt.xticks(rotation=45)\n",
    "plt.yticks(rotation=0, size=8)  # Ajusta el tamaño de las etiquetas\n",
    "plt.tight_layout()\n",
    "plt.show()"
   ]
  },
  {
   "cell_type": "code",
   "execution_count": 27,
   "metadata": {},
   "outputs": [],
   "source": [
    "significant_correlations.remove('Price_euros')"
   ]
  },
  {
   "cell_type": "code",
   "execution_count": 28,
   "metadata": {},
   "outputs": [],
   "source": [
    "features =['Inches', 'CPU_Brand_Intel', 'Weight', 'GPU_Brand_Nvidia']\n",
    "\n",
    "X_train_mod_final = X_train[significant_correlations] \n",
    "X_test_mod_final = X_test[significant_correlations] "
   ]
  },
  {
   "cell_type": "markdown",
   "metadata": {},
   "source": [
    "-----------------------------------------------------------------"
   ]
  },
  {
   "cell_type": "code",
   "execution_count": 29,
   "metadata": {},
   "outputs": [],
   "source": [
    "models = {\n",
    "    'RandomForest': RandomForestRegressor(n_estimators=100, random_state=42),\n",
    "    'GradientBoosting': GradientBoostingRegressor(random_state=42),\n",
    "    'XGBoost': xgb.XGBRegressor(random_state=42),\n",
    "    'LightGBM': lgb.LGBMRegressor(random_state=42),\n",
    "    'CatBoost': CatBoostRegressor(random_state=42, verbose=0)\n",
    "}"
   ]
  },
  {
   "cell_type": "code",
   "execution_count": 30,
   "metadata": {},
   "outputs": [
    {
     "name": "stdout",
     "output_type": "stream",
     "text": [
      "RandomForest MAE: 211.96654553021202\n",
      "GradientBoosting MAE: 217.28437832904416\n",
      "XGBoost MAE: 215.19717360533002\n",
      "[LightGBM] [Info] Auto-choosing row-wise multi-threading, the overhead of testing was 0.000095 seconds.\n",
      "You can set `force_row_wise=true` to remove the overhead.\n",
      "And if memory is not enough, you can set `force_col_wise=true`.\n",
      "[LightGBM] [Info] Total Bins 173\n",
      "[LightGBM] [Info] Number of data points in the train set: 729, number of used features: 11\n",
      "[LightGBM] [Info] Start training from score 1122.043223\n",
      "[LightGBM] [Warning] No further splits with positive gain, best gain: -inf\n",
      "[LightGBM] [Warning] No further splits with positive gain, best gain: -inf\n",
      "[LightGBM] [Warning] No further splits with positive gain, best gain: -inf\n",
      "[LightGBM] [Warning] No further splits with positive gain, best gain: -inf\n",
      "[LightGBM] [Warning] No further splits with positive gain, best gain: -inf\n",
      "[LightGBM] [Warning] No further splits with positive gain, best gain: -inf\n",
      "[LightGBM] [Warning] No further splits with positive gain, best gain: -inf\n",
      "[LightGBM] [Warning] No further splits with positive gain, best gain: -inf\n",
      "[LightGBM] [Warning] No further splits with positive gain, best gain: -inf\n",
      "[LightGBM] [Warning] No further splits with positive gain, best gain: -inf\n",
      "[LightGBM] [Warning] No further splits with positive gain, best gain: -inf\n",
      "[LightGBM] [Warning] No further splits with positive gain, best gain: -inf\n",
      "[LightGBM] [Warning] No further splits with positive gain, best gain: -inf\n",
      "[LightGBM] [Warning] No further splits with positive gain, best gain: -inf\n",
      "[LightGBM] [Warning] No further splits with positive gain, best gain: -inf\n",
      "[LightGBM] [Warning] No further splits with positive gain, best gain: -inf\n",
      "[LightGBM] [Warning] No further splits with positive gain, best gain: -inf\n",
      "[LightGBM] [Warning] No further splits with positive gain, best gain: -inf\n",
      "[LightGBM] [Warning] No further splits with positive gain, best gain: -inf\n",
      "[LightGBM] [Warning] No further splits with positive gain, best gain: -inf\n",
      "[LightGBM] [Warning] No further splits with positive gain, best gain: -inf\n",
      "[LightGBM] [Warning] No further splits with positive gain, best gain: -inf\n",
      "[LightGBM] [Warning] No further splits with positive gain, best gain: -inf\n",
      "[LightGBM] [Warning] No further splits with positive gain, best gain: -inf\n",
      "[LightGBM] [Warning] No further splits with positive gain, best gain: -inf\n",
      "[LightGBM] [Warning] No further splits with positive gain, best gain: -inf\n",
      "[LightGBM] [Warning] No further splits with positive gain, best gain: -inf\n",
      "[LightGBM] [Warning] No further splits with positive gain, best gain: -inf\n",
      "[LightGBM] [Warning] No further splits with positive gain, best gain: -inf\n",
      "[LightGBM] [Warning] No further splits with positive gain, best gain: -inf\n",
      "[LightGBM] [Warning] No further splits with positive gain, best gain: -inf\n",
      "[LightGBM] [Warning] No further splits with positive gain, best gain: -inf\n",
      "[LightGBM] [Warning] No further splits with positive gain, best gain: -inf\n",
      "[LightGBM] [Warning] No further splits with positive gain, best gain: -inf\n",
      "[LightGBM] [Warning] No further splits with positive gain, best gain: -inf\n",
      "[LightGBM] [Warning] No further splits with positive gain, best gain: -inf\n",
      "[LightGBM] [Warning] No further splits with positive gain, best gain: -inf\n",
      "[LightGBM] [Warning] No further splits with positive gain, best gain: -inf\n",
      "[LightGBM] [Warning] No further splits with positive gain, best gain: -inf\n",
      "[LightGBM] [Warning] No further splits with positive gain, best gain: -inf\n",
      "[LightGBM] [Warning] No further splits with positive gain, best gain: -inf\n",
      "[LightGBM] [Warning] No further splits with positive gain, best gain: -inf\n",
      "[LightGBM] [Warning] No further splits with positive gain, best gain: -inf\n",
      "[LightGBM] [Warning] No further splits with positive gain, best gain: -inf\n",
      "[LightGBM] [Warning] No further splits with positive gain, best gain: -inf\n",
      "[LightGBM] [Warning] No further splits with positive gain, best gain: -inf\n",
      "[LightGBM] [Warning] No further splits with positive gain, best gain: -inf\n",
      "[LightGBM] [Warning] No further splits with positive gain, best gain: -inf\n",
      "[LightGBM] [Warning] No further splits with positive gain, best gain: -inf\n",
      "[LightGBM] [Warning] No further splits with positive gain, best gain: -inf\n",
      "[LightGBM] [Warning] No further splits with positive gain, best gain: -inf\n",
      "[LightGBM] [Warning] No further splits with positive gain, best gain: -inf\n",
      "[LightGBM] [Warning] No further splits with positive gain, best gain: -inf\n",
      "[LightGBM] [Warning] No further splits with positive gain, best gain: -inf\n",
      "[LightGBM] [Warning] No further splits with positive gain, best gain: -inf\n",
      "[LightGBM] [Warning] No further splits with positive gain, best gain: -inf\n",
      "[LightGBM] [Warning] No further splits with positive gain, best gain: -inf\n",
      "[LightGBM] [Warning] No further splits with positive gain, best gain: -inf\n",
      "[LightGBM] [Warning] No further splits with positive gain, best gain: -inf\n",
      "[LightGBM] [Warning] No further splits with positive gain, best gain: -inf\n",
      "[LightGBM] [Warning] No further splits with positive gain, best gain: -inf\n",
      "[LightGBM] [Warning] No further splits with positive gain, best gain: -inf\n",
      "[LightGBM] [Warning] No further splits with positive gain, best gain: -inf\n",
      "[LightGBM] [Warning] No further splits with positive gain, best gain: -inf\n",
      "[LightGBM] [Warning] No further splits with positive gain, best gain: -inf\n",
      "[LightGBM] [Warning] No further splits with positive gain, best gain: -inf\n",
      "[LightGBM] [Warning] No further splits with positive gain, best gain: -inf\n",
      "[LightGBM] [Warning] No further splits with positive gain, best gain: -inf\n",
      "[LightGBM] [Warning] No further splits with positive gain, best gain: -inf\n",
      "[LightGBM] [Warning] No further splits with positive gain, best gain: -inf\n",
      "[LightGBM] [Warning] No further splits with positive gain, best gain: -inf\n",
      "[LightGBM] [Warning] No further splits with positive gain, best gain: -inf\n",
      "[LightGBM] [Warning] No further splits with positive gain, best gain: -inf\n",
      "[LightGBM] [Warning] No further splits with positive gain, best gain: -inf\n",
      "[LightGBM] [Warning] No further splits with positive gain, best gain: -inf\n",
      "[LightGBM] [Warning] No further splits with positive gain, best gain: -inf\n",
      "[LightGBM] [Warning] No further splits with positive gain, best gain: -inf\n",
      "[LightGBM] [Warning] No further splits with positive gain, best gain: -inf\n",
      "[LightGBM] [Warning] No further splits with positive gain, best gain: -inf\n",
      "[LightGBM] [Warning] No further splits with positive gain, best gain: -inf\n",
      "[LightGBM] [Warning] No further splits with positive gain, best gain: -inf\n",
      "[LightGBM] [Warning] No further splits with positive gain, best gain: -inf\n",
      "[LightGBM] [Warning] No further splits with positive gain, best gain: -inf\n",
      "[LightGBM] [Warning] No further splits with positive gain, best gain: -inf\n",
      "[LightGBM] [Warning] No further splits with positive gain, best gain: -inf\n",
      "[LightGBM] [Warning] No further splits with positive gain, best gain: -inf\n",
      "[LightGBM] [Warning] No further splits with positive gain, best gain: -inf\n",
      "[LightGBM] [Warning] No further splits with positive gain, best gain: -inf\n",
      "[LightGBM] [Warning] No further splits with positive gain, best gain: -inf\n",
      "[LightGBM] [Warning] No further splits with positive gain, best gain: -inf\n",
      "[LightGBM] [Warning] No further splits with positive gain, best gain: -inf\n",
      "[LightGBM] [Warning] No further splits with positive gain, best gain: -inf\n",
      "[LightGBM] [Warning] No further splits with positive gain, best gain: -inf\n",
      "[LightGBM] [Warning] No further splits with positive gain, best gain: -inf\n",
      "[LightGBM] [Warning] No further splits with positive gain, best gain: -inf\n",
      "[LightGBM] [Warning] No further splits with positive gain, best gain: -inf\n",
      "[LightGBM] [Warning] No further splits with positive gain, best gain: -inf\n",
      "[LightGBM] [Warning] No further splits with positive gain, best gain: -inf\n",
      "[LightGBM] [Warning] No further splits with positive gain, best gain: -inf\n",
      "[LightGBM] [Warning] No further splits with positive gain, best gain: -inf\n",
      "LightGBM MAE: 208.26018438804064\n",
      "CatBoost MAE: 204.21870620606555\n",
      "Mejor modelo inicial: CatBoost con MAE: 204.21870620606555\n"
     ]
    }
   ],
   "source": [
    "best_mae = float('inf')\n",
    "best_model = None\n",
    "best_model_name = \"\"\n",
    "best_params = None\n",
    "\n",
    "for name, model in models.items():\n",
    "    model.fit(X_train_mod_final, y_train)\n",
    "    predictions_best = model.predict(X_test_mod_final)\n",
    "    mae_best = mean_absolute_error(y_test, predictions_best)\n",
    "    print(f'{name} MAE: {mae_best}')\n",
    "    if mae_best < best_mae and mae_best > 100:\n",
    "        best_mae = mae_best\n",
    "        best_model = model\n",
    "        best_model_name = name\n",
    "\n",
    "print(f'Mejor modelo inicial: {best_model_name} con MAE: {best_mae}')"
   ]
  },
  {
   "cell_type": "code",
   "execution_count": null,
   "metadata": {},
   "outputs": [],
   "source": []
  },
  {
   "cell_type": "code",
   "execution_count": 31,
   "metadata": {},
   "outputs": [
    {
     "data": {
      "text/plain": [
       "<catboost.core.CatBoostRegressor at 0x22ed7738a10>"
      ]
     },
     "execution_count": 31,
     "metadata": {},
     "output_type": "execute_result"
    }
   ],
   "source": [
    "\n",
    "##model = RandomForestRegressor(n_estimators=100, random_state=42)\n",
    "model = best_model\n",
    "model.fit(X_train_mod_final, y_train)"
   ]
  },
  {
   "cell_type": "code",
   "execution_count": 32,
   "metadata": {},
   "outputs": [],
   "source": [
    "predicciones = model.predict(X_test_mod_final)"
   ]
  },
  {
   "cell_type": "code",
   "execution_count": 33,
   "metadata": {},
   "outputs": [
    {
     "name": "stdout",
     "output_type": "stream",
     "text": [
      "MAE:  204.21870620606555\n",
      "MSE:  104227.93466010256\n",
      "RMSE:  322.84351419860144\n",
      "R2:  0.7586791803066895\n"
     ]
    }
   ],
   "source": [
    "print('MAE: ', metrics.mean_absolute_error(y_test,predicciones))\n",
    "print('MSE: ', metrics.mean_squared_error(y_test,predicciones))\n",
    "print('RMSE: ', np.sqrt(metrics.mean_squared_error(y_test,predicciones)))\n",
    "print('R2: ', model.score(X_test_mod_final,y_test))"
   ]
  },
  {
   "cell_type": "code",
   "execution_count": 34,
   "metadata": {},
   "outputs": [],
   "source": [
    "\n",
    "\"\"\"\n",
    "Para random forest\n",
    "param_grid = {\n",
    "    'n_estimators': [50, 100, 200, 300, 400, 500],\n",
    "    'max_depth': [None, 10, 20, 30, 40, 50, 60, 70, 80, 90, 100],\n",
    "    'min_samples_split': [2, 5, 10, 15, 20],\n",
    "    'min_samples_leaf': [1, 2, 4, 6, 8]\n",
    "} \n",
    "\n",
    "model = RandomForestRegressor(n_estimators=100, random_state=42)\n",
    "\n",
    "grid_search = GridSearchCV(estimator=model, param_grid=param_grid, cv=5, n_jobs=-1, verbose=2)\n",
    "\n",
    "\"\"\"\n",
    "\n",
    "\"\"\"Para catBoost \"\"\"\n",
    "param_grid = {\n",
    "    'iterations': [500, 550, 600, 700, 800],\n",
    "    'learning_rate': [0.1, 0.15, 0.2, 0.25, 0.3],\n",
    "    'depth': [5, 6, 7, 8, 9, 10],\n",
    "    'l2_leaf_reg': [3, 4, 5, 6, 7, 8, 9, 10]\n",
    "}\n",
    "catboost = CatBoostRegressor(random_state=42, verbose=0)\n",
    "\n",
    "grid_search = GridSearchCV(catboost, param_grid, cv=5, scoring='neg_mean_absolute_error', n_jobs=-1)"
   ]
  },
  {
   "cell_type": "code",
   "execution_count": 35,
   "metadata": {},
   "outputs": [
    {
     "data": {
      "text/html": [
       "<style>#sk-container-id-1 {color: black;background-color: white;}#sk-container-id-1 pre{padding: 0;}#sk-container-id-1 div.sk-toggleable {background-color: white;}#sk-container-id-1 label.sk-toggleable__label {cursor: pointer;display: block;width: 100%;margin-bottom: 0;padding: 0.3em;box-sizing: border-box;text-align: center;}#sk-container-id-1 label.sk-toggleable__label-arrow:before {content: \"▸\";float: left;margin-right: 0.25em;color: #696969;}#sk-container-id-1 label.sk-toggleable__label-arrow:hover:before {color: black;}#sk-container-id-1 div.sk-estimator:hover label.sk-toggleable__label-arrow:before {color: black;}#sk-container-id-1 div.sk-toggleable__content {max-height: 0;max-width: 0;overflow: hidden;text-align: left;background-color: #f0f8ff;}#sk-container-id-1 div.sk-toggleable__content pre {margin: 0.2em;color: black;border-radius: 0.25em;background-color: #f0f8ff;}#sk-container-id-1 input.sk-toggleable__control:checked~div.sk-toggleable__content {max-height: 200px;max-width: 100%;overflow: auto;}#sk-container-id-1 input.sk-toggleable__control:checked~label.sk-toggleable__label-arrow:before {content: \"▾\";}#sk-container-id-1 div.sk-estimator input.sk-toggleable__control:checked~label.sk-toggleable__label {background-color: #d4ebff;}#sk-container-id-1 div.sk-label input.sk-toggleable__control:checked~label.sk-toggleable__label {background-color: #d4ebff;}#sk-container-id-1 input.sk-hidden--visually {border: 0;clip: rect(1px 1px 1px 1px);clip: rect(1px, 1px, 1px, 1px);height: 1px;margin: -1px;overflow: hidden;padding: 0;position: absolute;width: 1px;}#sk-container-id-1 div.sk-estimator {font-family: monospace;background-color: #f0f8ff;border: 1px dotted black;border-radius: 0.25em;box-sizing: border-box;margin-bottom: 0.5em;}#sk-container-id-1 div.sk-estimator:hover {background-color: #d4ebff;}#sk-container-id-1 div.sk-parallel-item::after {content: \"\";width: 100%;border-bottom: 1px solid gray;flex-grow: 1;}#sk-container-id-1 div.sk-label:hover label.sk-toggleable__label {background-color: #d4ebff;}#sk-container-id-1 div.sk-serial::before {content: \"\";position: absolute;border-left: 1px solid gray;box-sizing: border-box;top: 0;bottom: 0;left: 50%;z-index: 0;}#sk-container-id-1 div.sk-serial {display: flex;flex-direction: column;align-items: center;background-color: white;padding-right: 0.2em;padding-left: 0.2em;position: relative;}#sk-container-id-1 div.sk-item {position: relative;z-index: 1;}#sk-container-id-1 div.sk-parallel {display: flex;align-items: stretch;justify-content: center;background-color: white;position: relative;}#sk-container-id-1 div.sk-item::before, #sk-container-id-1 div.sk-parallel-item::before {content: \"\";position: absolute;border-left: 1px solid gray;box-sizing: border-box;top: 0;bottom: 0;left: 50%;z-index: -1;}#sk-container-id-1 div.sk-parallel-item {display: flex;flex-direction: column;z-index: 1;position: relative;background-color: white;}#sk-container-id-1 div.sk-parallel-item:first-child::after {align-self: flex-end;width: 50%;}#sk-container-id-1 div.sk-parallel-item:last-child::after {align-self: flex-start;width: 50%;}#sk-container-id-1 div.sk-parallel-item:only-child::after {width: 0;}#sk-container-id-1 div.sk-dashed-wrapped {border: 1px dashed gray;margin: 0 0.4em 0.5em 0.4em;box-sizing: border-box;padding-bottom: 0.4em;background-color: white;}#sk-container-id-1 div.sk-label label {font-family: monospace;font-weight: bold;display: inline-block;line-height: 1.2em;}#sk-container-id-1 div.sk-label-container {text-align: center;}#sk-container-id-1 div.sk-container {/* jupyter's `normalize.less` sets `[hidden] { display: none; }` but bootstrap.min.css set `[hidden] { display: none !important; }` so we also need the `!important` here to be able to override the default hidden behavior on the sphinx rendered scikit-learn.org. See: https://github.com/scikit-learn/scikit-learn/issues/21755 */display: inline-block !important;position: relative;}#sk-container-id-1 div.sk-text-repr-fallback {display: none;}</style><div id=\"sk-container-id-1\" class=\"sk-top-container\"><div class=\"sk-text-repr-fallback\"><pre>GridSearchCV(cv=5,\n",
       "             estimator=&lt;catboost.core.CatBoostRegressor object at 0x0000022EDD9B8D90&gt;,\n",
       "             n_jobs=-1,\n",
       "             param_grid={&#x27;depth&#x27;: [5, 6, 7, 8, 9, 10],\n",
       "                         &#x27;iterations&#x27;: [500, 550, 600, 700, 800],\n",
       "                         &#x27;l2_leaf_reg&#x27;: [3, 4, 5, 6, 7, 8, 9, 10],\n",
       "                         &#x27;learning_rate&#x27;: [0.1, 0.15, 0.2, 0.25, 0.3]},\n",
       "             scoring=&#x27;neg_mean_absolute_error&#x27;)</pre><b>In a Jupyter environment, please rerun this cell to show the HTML representation or trust the notebook. <br />On GitHub, the HTML representation is unable to render, please try loading this page with nbviewer.org.</b></div><div class=\"sk-container\" hidden><div class=\"sk-item sk-dashed-wrapped\"><div class=\"sk-label-container\"><div class=\"sk-label sk-toggleable\"><input class=\"sk-toggleable__control sk-hidden--visually\" id=\"sk-estimator-id-1\" type=\"checkbox\" ><label for=\"sk-estimator-id-1\" class=\"sk-toggleable__label sk-toggleable__label-arrow\">GridSearchCV</label><div class=\"sk-toggleable__content\"><pre>GridSearchCV(cv=5,\n",
       "             estimator=&lt;catboost.core.CatBoostRegressor object at 0x0000022EDD9B8D90&gt;,\n",
       "             n_jobs=-1,\n",
       "             param_grid={&#x27;depth&#x27;: [5, 6, 7, 8, 9, 10],\n",
       "                         &#x27;iterations&#x27;: [500, 550, 600, 700, 800],\n",
       "                         &#x27;l2_leaf_reg&#x27;: [3, 4, 5, 6, 7, 8, 9, 10],\n",
       "                         &#x27;learning_rate&#x27;: [0.1, 0.15, 0.2, 0.25, 0.3]},\n",
       "             scoring=&#x27;neg_mean_absolute_error&#x27;)</pre></div></div></div><div class=\"sk-parallel\"><div class=\"sk-parallel-item\"><div class=\"sk-item\"><div class=\"sk-label-container\"><div class=\"sk-label sk-toggleable\"><input class=\"sk-toggleable__control sk-hidden--visually\" id=\"sk-estimator-id-2\" type=\"checkbox\" ><label for=\"sk-estimator-id-2\" class=\"sk-toggleable__label sk-toggleable__label-arrow\">estimator: CatBoostRegressor</label><div class=\"sk-toggleable__content\"><pre>&lt;catboost.core.CatBoostRegressor object at 0x0000022EDD9B8D90&gt;</pre></div></div></div><div class=\"sk-serial\"><div class=\"sk-item\"><div class=\"sk-estimator sk-toggleable\"><input class=\"sk-toggleable__control sk-hidden--visually\" id=\"sk-estimator-id-3\" type=\"checkbox\" ><label for=\"sk-estimator-id-3\" class=\"sk-toggleable__label sk-toggleable__label-arrow\">CatBoostRegressor</label><div class=\"sk-toggleable__content\"><pre>&lt;catboost.core.CatBoostRegressor object at 0x0000022EDD9B8D90&gt;</pre></div></div></div></div></div></div></div></div></div></div>"
      ],
      "text/plain": [
       "GridSearchCV(cv=5,\n",
       "             estimator=<catboost.core.CatBoostRegressor object at 0x0000022EDD9B8D90>,\n",
       "             n_jobs=-1,\n",
       "             param_grid={'depth': [5, 6, 7, 8, 9, 10],\n",
       "                         'iterations': [500, 550, 600, 700, 800],\n",
       "                         'l2_leaf_reg': [3, 4, 5, 6, 7, 8, 9, 10],\n",
       "                         'learning_rate': [0.1, 0.15, 0.2, 0.25, 0.3]},\n",
       "             scoring='neg_mean_absolute_error')"
      ]
     },
     "execution_count": 35,
     "metadata": {},
     "output_type": "execute_result"
    }
   ],
   "source": [
    "grid_search.fit(X_train_mod_final, y_train)"
   ]
  },
  {
   "cell_type": "code",
   "execution_count": 36,
   "metadata": {},
   "outputs": [
    {
     "name": "stdout",
     "output_type": "stream",
     "text": [
      "Mejores hiperparámetros:  {'depth': 7, 'iterations': 800, 'l2_leaf_reg': 4, 'learning_rate': 0.1}\n"
     ]
    }
   ],
   "source": [
    "best_params = grid_search.best_params_\n",
    "best_model = grid_search.best_estimator_\n",
    "print(\"Mejores hiperparámetros: \", best_params)"
   ]
  },
  {
   "cell_type": "code",
   "execution_count": 37,
   "metadata": {},
   "outputs": [
    {
     "name": "stdout",
     "output_type": "stream",
     "text": [
      "MSE en entrenamiento: 8434.904093186982\n",
      "MSE en prueba: 102510.5309096938\n",
      "MAE:  63.218708760382526\n",
      "MAE:  198.76904184437961\n"
     ]
    }
   ],
   "source": [
    "y_pred_train = best_model.predict(X_train_mod_final)\n",
    "y_pred_test = best_model.predict(X_test_mod_final)\n",
    "\n",
    "mse_train = mean_squared_error(y_train, y_pred_train)\n",
    "mse_test = mean_squared_error(y_test, y_pred_test)\n",
    "\n",
    "print(f\"MSE en entrenamiento: {mse_train}\")\n",
    "print(f\"MSE en prueba: {mse_test}\")\n",
    "print('MAE: ', metrics.mean_absolute_error(y_train, y_pred_train))\n",
    "print('MAE: ', metrics.mean_absolute_error(y_test, y_pred_test))"
   ]
  },
  {
   "cell_type": "markdown",
   "metadata": {},
   "source": [
    "## Una vez listo el modelo, toca predecir con el dataset de predicción "
   ]
  },
  {
   "cell_type": "markdown",
   "metadata": {},
   "source": [
    "Definición de **modelo que está listo**. \n",
    "\n",
    "Tras hacer suficientes pruebas, analizar los datos, hacer feature engineering, probar diferentes modelos con diferentes parámetros, es con este con el que observo mejores métricas y menos overfitting. ¡Cuidado con el overfitting aquí! Si vuestro modelo aprende muy bien de estos datos pero hay overfitting cuando le pasemos los datos desconocidos de `test.csv` nos arriesgamos a que digamos, no salga lo esperado."
   ]
  },
  {
   "cell_type": "markdown",
   "metadata": {},
   "source": [
    "### 1. Entrena dicho modelo con TODOS tus datos de train, esto es con `train.csv` al completo.\n",
    "\n",
    "\n",
    "**CON LAS TRANSFORMACIONES QUE LE HAYAS REALIZADO A `X` INCLUÍDAS.**\n",
    "\n",
    "\n",
    "Véase:\n",
    "- Estandarización/Normalización\n",
    "- Eliminación de Outliers\n",
    "- Eliminación de columnas\n",
    "- Creación de columnas nuevas\n",
    "- Gestión de valores nulos\n",
    "- Y un largo etcétera de técnicas que como Data Scientist hayas considerado las mejores para tu dataset."
   ]
  },
  {
   "cell_type": "code",
   "execution_count": null,
   "metadata": {},
   "outputs": [],
   "source": []
  },
  {
   "cell_type": "markdown",
   "metadata": {},
   "source": [
    "### 2. Carga los datos de `test.csv` para predecir."
   ]
  },
  {
   "cell_type": "code",
   "execution_count": 38,
   "metadata": {},
   "outputs": [],
   "source": [
    "df_test = pd.read_csv('test.csv', index_col=0)\n",
    "\n"
   ]
  },
  {
   "cell_type": "code",
   "execution_count": 39,
   "metadata": {},
   "outputs": [
    {
     "name": "stdout",
     "output_type": "stream",
     "text": [
      "<class 'pandas.core.frame.DataFrame'>\n",
      "Index: 391 entries, 181 to 1036\n",
      "Data columns (total 12 columns):\n",
      " #   Column            Non-Null Count  Dtype  \n",
      "---  ------            --------------  -----  \n",
      " 0   laptop_ID         391 non-null    int64  \n",
      " 1   Company           391 non-null    object \n",
      " 2   Product           391 non-null    object \n",
      " 3   TypeName          391 non-null    object \n",
      " 4   Inches            391 non-null    float64\n",
      " 5   ScreenResolution  391 non-null    object \n",
      " 6   Cpu               391 non-null    object \n",
      " 7   Ram               391 non-null    object \n",
      " 8   Memory            391 non-null    object \n",
      " 9   Gpu               391 non-null    object \n",
      " 10  OpSys             391 non-null    object \n",
      " 11  Weight            391 non-null    object \n",
      "dtypes: float64(1), int64(1), object(10)\n",
      "memory usage: 39.7+ KB\n"
     ]
    }
   ],
   "source": [
    "df_test.info()"
   ]
  },
  {
   "cell_type": "code",
   "execution_count": 40,
   "metadata": {},
   "outputs": [
    {
     "data": {
      "text/plain": [
       "\" df_test['GPU_Brand'] = df_test['Gpu'].str.split().str[0]\\ndf_test['CPU_Brand'] = df_test['Cpu'].str.split().str[0] \""
      ]
     },
     "execution_count": 40,
     "metadata": {},
     "output_type": "execute_result"
    }
   ],
   "source": [
    "\"\"\" df_test['GPU_Brand'] = df_test['Gpu'].str.split().str[0]\n",
    "df_test['CPU_Brand'] = df_test['Cpu'].str.split().str[0] \"\"\""
   ]
  },
  {
   "cell_type": "code",
   "execution_count": 41,
   "metadata": {},
   "outputs": [
    {
     "data": {
      "text/plain": [
       "\" df_test_mod = pd.get_dummies(df_test, columns=['GPU_Brand', 'CPU_Brand', 'OpSys', 'Cpu', 'Gpu', 'ScreenResolution', 'Memory', 'TypeName', 'Company'], dtype=int) \""
      ]
     },
     "execution_count": 41,
     "metadata": {},
     "output_type": "execute_result"
    }
   ],
   "source": [
    "\"\"\" df_test_mod = pd.get_dummies(df_test, columns=['GPU_Brand', 'CPU_Brand', 'OpSys', 'Cpu', 'Gpu', 'ScreenResolution', 'Memory', 'TypeName', 'Company'], dtype=int) \"\"\""
   ]
  },
  {
   "cell_type": "code",
   "execution_count": 42,
   "metadata": {},
   "outputs": [
    {
     "data": {
      "text/plain": [
       "\" df_test_mod['Weight'] = df_test_mod['Weight'].str.replace('kg', '').astype(float)\\ndf_test_mod['Ram'] = df_test_mod['Ram'].str.replace('GB', '').astype(float) \""
      ]
     },
     "execution_count": 42,
     "metadata": {},
     "output_type": "execute_result"
    }
   ],
   "source": [
    "\"\"\" df_test_mod['Weight'] = df_test_mod['Weight'].str.replace('kg', '').astype(float)\n",
    "df_test_mod['Ram'] = df_test_mod['Ram'].str.replace('GB', '').astype(float) \"\"\""
   ]
  },
  {
   "cell_type": "code",
   "execution_count": 43,
   "metadata": {},
   "outputs": [
    {
     "data": {
      "text/plain": [
       "\" df_test_mod = df_test_mod.drop(columns=['Product']) \""
      ]
     },
     "execution_count": 43,
     "metadata": {},
     "output_type": "execute_result"
    }
   ],
   "source": [
    "\"\"\" df_test_mod = df_test_mod.drop(columns=['Product']) \"\"\""
   ]
  },
  {
   "cell_type": "code",
   "execution_count": 44,
   "metadata": {},
   "outputs": [
    {
     "data": {
      "text/plain": [
       "' df_test_mod_final = df_test_mod[significant_correlations]  '"
      ]
     },
     "execution_count": 44,
     "metadata": {},
     "output_type": "execute_result"
    }
   ],
   "source": [
    "\"\"\" df_test_mod_final = df_test_mod[significant_correlations]  \"\"\""
   ]
  },
  {
   "cell_type": "code",
   "execution_count": 45,
   "metadata": {},
   "outputs": [],
   "source": [
    "df_test['SSD_capacity'], df_test['HDD_capacity'], df_test['Flash_capacity'], df_test['Hybrid_capacity'] = zip(*df_test['Memory'].apply(transform_memory))\n",
    "\n",
    "# Transformaciones de GPU\n",
    "df_test['Gpu_manufacter'], df_test['Gpu_series'], df_test['Gpu_numero'], df_test['Gpu_codigo'] = zip(*df_test['Gpu'].apply(transform_gpu))\n",
    "\n",
    "# Transformaciones de CPU\n",
    "df_test['Cpu_manufacturer'], df_test['Cpu_series'], df_test['Cpu_clock_speed'], df_test['Cpu_code'] = zip(*df_test['Cpu'].apply(transform_cpu))\n",
    "\n",
    "# Transformaciones de resolución de pantalla\n",
    "df_test['ResolutionValue'] = df_test['ScreenResolution'].apply(assign_resolution_value)\n",
    "df_test['HorizontalResolution'] = df_test['ScreenResolution'].apply(lambda x: extract_resolution(x, 'horizontal'))\n",
    "df_test['VerticalResolution'] = df_test['ScreenResolution'].apply(lambda x: extract_resolution(x, 'vertical'))\n",
    "df_test['IPS_Panel'] = df_test['ScreenResolution'].apply(has_ips_panel)\n",
    "df_test['Weight'] = df_test['Weight'].str.replace('kg', '').astype(float)\n",
    "df_test['Ram'] = df_test['Ram'].str.replace('GB', '').astype(float)\n",
    "# Eliminar columnas innecesarias\n",
    "df_test.drop(columnas_a_eliminar, axis=1, inplace=True)\n",
    "\n",
    "# Aplicar get dummies a las columnas object\n",
    "df_test = pd.get_dummies(df_test, columns=object_columns)\n",
    "\n",
    "# Aplicar selección de características si la has realizado en el conjunto de entrenamiento\n",
    "\n",
    "# Asegurarte de que el orden de las columnas en el conjunto de prueba es el mismo que en el conjunto de entrenamiento\n",
    "df_test = df_test.reindex(columns=X_train_mod_final.columns, fill_value=0)"
   ]
  },
  {
   "cell_type": "code",
   "execution_count": 46,
   "metadata": {},
   "outputs": [],
   "source": [
    "predicciones_test = best_model.predict(df_test)"
   ]
  },
  {
   "cell_type": "code",
   "execution_count": null,
   "metadata": {},
   "outputs": [],
   "source": []
  },
  {
   "cell_type": "markdown",
   "metadata": {},
   "source": [
    "**¿Por qué puede dar error?** "
   ]
  },
  {
   "cell_type": "markdown",
   "metadata": {},
   "source": [
    "IMPORTANTE: APLICAR A ESTOS DATOS LO MISMO QUE HAYÁIS APLICADO A LOS DATOS DE ENTRENAMIENTO\n",
    "\n",
    "- SI EL ARRAY CON EL QUE HICISTEIS `.fit()` ERA DE 4 COLUMNAS, PARA `.predict()` DEBEN SER LAS MISMAS\n",
    "- SI AL ARRAY CON EL QUE HICISTEIS `.fit()` LO NORMALIZASTEIS, PARA `.predict()` DEBÉIS NORMALIZARLO\n",
    "- TODO IGUAL SALVO BORRAR FILAS, EL NÚMERO DE ROWS SE DEBE MANTENER EN ESTE SET, PUES LA PREDICCIÓN DEBE TENER 391 FILAS, SI O SI"
   ]
  },
  {
   "cell_type": "markdown",
   "metadata": {},
   "source": [
    "**Entonces, si al cargar los datos de train usé `index_col=0` para que utilizara la primera columna del conjunto de datos como índice, ¿tendré que hacerlo también para el conjunto `test.csv`?**"
   ]
  },
  {
   "cell_type": "code",
   "execution_count": 47,
   "metadata": {},
   "outputs": [],
   "source": [
    "# ¿Qué opináis?\n",
    "# Sí"
   ]
  },
  {
   "cell_type": "markdown",
   "metadata": {},
   "source": [
    "![](https://www.tierraljelechu.com/web/img/wiki_up/1.996-SorpresaDto.-1-Red.jpg)"
   ]
  },
  {
   "cell_type": "code",
   "execution_count": null,
   "metadata": {},
   "outputs": [],
   "source": []
  },
  {
   "cell_type": "markdown",
   "metadata": {},
   "source": [
    "### 3. AHORA puedo hacer la predicción que será lo que subirás a Kaggle. "
   ]
  },
  {
   "cell_type": "markdown",
   "metadata": {},
   "source": [
    "**¿Qué es lo que subirás a Kaggle?**"
   ]
  },
  {
   "cell_type": "code",
   "execution_count": 48,
   "metadata": {},
   "outputs": [],
   "source": [
    "submission = pd.DataFrame({\n",
    "    'id': df_test.index,  # Usar el índice del DataFrame como id\n",
    "    'Price_euros': predicciones_test\n",
    "})"
   ]
  },
  {
   "cell_type": "markdown",
   "metadata": {},
   "source": [
    "**¡PERO! Para subir a Kaggle la predicción, ésta tendrá que tener una forma específica y no valdrá otra.**\n",
    "\n",
    "En este caso, la **MISMA** forma que `sample_submission.csv`. "
   ]
  },
  {
   "cell_type": "code",
   "execution_count": 49,
   "metadata": {},
   "outputs": [],
   "source": [
    "sample = pd.read_csv('C:/Users/unais/Desktop/repaso/Kaggle/sample_submission.csv')"
   ]
  },
  {
   "cell_type": "code",
   "execution_count": 50,
   "metadata": {},
   "outputs": [
    {
     "data": {
      "text/html": [
       "<div>\n",
       "<style scoped>\n",
       "    .dataframe tbody tr th:only-of-type {\n",
       "        vertical-align: middle;\n",
       "    }\n",
       "\n",
       "    .dataframe tbody tr th {\n",
       "        vertical-align: top;\n",
       "    }\n",
       "\n",
       "    .dataframe thead th {\n",
       "        text-align: right;\n",
       "    }\n",
       "</style>\n",
       "<table border=\"1\" class=\"dataframe\">\n",
       "  <thead>\n",
       "    <tr style=\"text-align: right;\">\n",
       "      <th></th>\n",
       "      <th>id</th>\n",
       "      <th>Price_euros</th>\n",
       "    </tr>\n",
       "  </thead>\n",
       "  <tbody>\n",
       "    <tr>\n",
       "      <th>0</th>\n",
       "      <td>1014</td>\n",
       "      <td>752.0</td>\n",
       "    </tr>\n",
       "    <tr>\n",
       "      <th>1</th>\n",
       "      <td>845</td>\n",
       "      <td>499.0</td>\n",
       "    </tr>\n",
       "    <tr>\n",
       "      <th>2</th>\n",
       "      <td>1151</td>\n",
       "      <td>1747.0</td>\n",
       "    </tr>\n",
       "    <tr>\n",
       "      <th>3</th>\n",
       "      <td>1265</td>\n",
       "      <td>245.0</td>\n",
       "    </tr>\n",
       "    <tr>\n",
       "      <th>4</th>\n",
       "      <td>573</td>\n",
       "      <td>1179.0</td>\n",
       "    </tr>\n",
       "  </tbody>\n",
       "</table>\n",
       "</div>"
      ],
      "text/plain": [
       "     id  Price_euros\n",
       "0  1014        752.0\n",
       "1   845        499.0\n",
       "2  1151       1747.0\n",
       "3  1265        245.0\n",
       "4   573       1179.0"
      ]
     },
     "execution_count": 50,
     "metadata": {},
     "output_type": "execute_result"
    }
   ],
   "source": [
    "sample.head()"
   ]
  },
  {
   "cell_type": "code",
   "execution_count": 51,
   "metadata": {},
   "outputs": [
    {
     "data": {
      "text/plain": [
       "(391, 2)"
      ]
     },
     "execution_count": 51,
     "metadata": {},
     "output_type": "execute_result"
    }
   ],
   "source": [
    "sample.shape"
   ]
  },
  {
   "cell_type": "markdown",
   "metadata": {},
   "source": [
    "### 4. Mete tus predicciones en un dataframe. \n",
    "\n",
    "En este caso, la **MISMA** forma que `sample_submission.csv`. "
   ]
  },
  {
   "cell_type": "code",
   "execution_count": null,
   "metadata": {},
   "outputs": [],
   "source": []
  },
  {
   "cell_type": "markdown",
   "metadata": {},
   "source": [
    "### 5. Pásale el CHEQUEATOR para comprobar que efectivamente está listo para subir a Kaggle."
   ]
  },
  {
   "cell_type": "code",
   "execution_count": 52,
   "metadata": {},
   "outputs": [
    {
     "name": "stdout",
     "output_type": "stream",
     "text": [
      "You're ready to submit!\n"
     ]
    }
   ],
   "source": [
    "def chequeator(df_to_submit):\n",
    "    \"\"\"\n",
    "    Esta función se asegura de que tu submission tenga la forma requerida por Kaggle.\n",
    "    \n",
    "    Si es así, se guardará el dataframe en un `csv` y estará listo para subir a Kaggle.\n",
    "    \n",
    "    Si no, LEE EL MENSAJE Y HAZLE CASO.\n",
    "    \n",
    "    Si aún no:\n",
    "    - apaga tu ordenador, \n",
    "    - date una vuelta, \n",
    "    - enciendelo otra vez, \n",
    "    - abre este notebook y \n",
    "    - leelo todo de nuevo. \n",
    "    Todos nos merecemos una segunda oportunidad. También tú.\n",
    "    \"\"\"\n",
    "    df_to_submit.shape\n",
    "    sample.shape\n",
    "    if df_to_submit.shape == sample.shape:\n",
    "        if df_to_submit.columns.all() == sample.columns.all():\n",
    "            if df_to_submit.id.all() == sample.id.all():\n",
    "                print(\"You're ready to submit!\")\n",
    "                submission.to_csv(\"submission.csv\", index = False) #muy importante el index = False\n",
    "                urllib.request.urlretrieve(\"https://i.kym-cdn.com/photos/images/facebook/000/747/556/27a.jpg\", \"gfg.png\")     \n",
    "                img = Image.open(\"C:/Users/unais/Desktop/repaso/Kaggle/gfg.png\")\n",
    "                img.show()   \n",
    "            else:\n",
    "                print(\"Check the ids and try again\")\n",
    "        else:\n",
    "            print(\"Check the names of the columns and try again\")\n",
    "    else:\n",
    "        print(\"Check the number of rows and/or columns and try again\")\n",
    "        print(\"\")\n",
    "\n",
    "chequeator(submission)"
   ]
  },
  {
   "cell_type": "code",
   "execution_count": null,
   "metadata": {},
   "outputs": [],
   "source": []
  }
 ],
 "metadata": {
  "kernelspec": {
   "display_name": "Python 3.7.4 64-bit",
   "language": "python",
   "name": "python3"
  },
  "language_info": {
   "codemirror_mode": {
    "name": "ipython",
    "version": 3
   },
   "file_extension": ".py",
   "mimetype": "text/x-python",
   "name": "python",
   "nbconvert_exporter": "python",
   "pygments_lexer": "ipython3",
   "version": "3.11.7"
  },
  "vscode": {
   "interpreter": {
    "hash": "c0e4a4af33acb5d51fe8962d9e2e7588108ae49a894b6d1e35c2101e79360239"
   }
  }
 },
 "nbformat": 4,
 "nbformat_minor": 4
}
